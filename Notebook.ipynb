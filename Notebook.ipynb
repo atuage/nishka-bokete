{
 "cells": [
  {
   "cell_type": "code",
   "execution_count": 256,
   "metadata": {},
   "outputs": [],
   "source": [
    "import pandas as pd\n",
    "import numpy as np\n",
    "\n",
    "import MeCab\n",
    "\n",
    "from sklearn.feature_extraction.text import TfidfVectorizer\n",
    "from sklearn.feature_extraction.text import CountVectorizer\n",
    "\n",
    "#import lightgbm as lgb\n",
    "import optuna.integration.lightgbm as lgb\n",
    "from sklearn.metrics import roc_auc_score\n",
    "\n",
    "from sklearn.model_selection import KFold\n"
   ]
  },
  {
   "cell_type": "code",
   "execution_count": 257,
   "metadata": {},
   "outputs": [],
   "source": [
    "train = pd.read_csv(\"train.csv\")\n",
    "test = pd.read_csv(\"test.csv\")"
   ]
  },
  {
   "cell_type": "code",
   "execution_count": null,
   "metadata": {},
   "outputs": [],
   "source": [
    "mecab = MeCab.Tagger(\"-Owakati\")\n",
    "\n",
    "texts_wakati_train = [mecab.parse(text).strip() for text in train[\"text\"].values]\n",
    "texts_wakati_test = [mecab.parse(text).strip() for text in test[\"text\"].values]\n",
    "corpus = texts_wakati_train+ texts_wakati_test\n",
    "\n",
    "tfidf = TfidfVectorizer(max_features=250)\n",
    "\n",
    "tfidf.fit(corpus)\n",
    "result = tfidf.transform(texts_wakati_train).toarray()\n",
    "names = tfidf.get_feature_names_out()\n",
    "\n",
    "result_test = tfidf.transform(texts_wakati_test).toarray()\n",
    "\n",
    "for i in range(result.shape[1]):\n",
    "    train[\"tf\"+names[i]] = result.T[i]\n",
    "\n",
    "for i in range(result_test.shape[1]):\n",
    "    test[\"tf\"+names[i]] = result_test.T[i]\n",
    "\n",
    "countVec = CountVectorizer(max_features=100)\n",
    "countVec.fit(corpus)\n",
    "\n",
    "result = countVec.transform(texts_wakati_train).toarray()\n",
    "names = countVec.get_feature_names_out()\n",
    "\n",
    "result_test = countVec.transform(texts_wakati_test).toarray()\n",
    "\n",
    "for i in range(result.shape[1]):\n",
    "    train[\"cVec\"+names[i]] = result.T[i]\n",
    "\n",
    "for i in range(result_test.shape[1]):\n",
    "    test[\"cVec\"+names[i]] = result_test.T[i]\n",
    "\n",
    "    "
   ]
  },
  {
   "cell_type": "code",
   "execution_count": null,
   "metadata": {},
   "outputs": [],
   "source": [
    "cv = KFold(n_splits=5)\n",
    "\n",
    "scores=0\n",
    "models=[]\n",
    "\n",
    "y = train[\"is_laugh\"]\n",
    "train.drop([\"is_laugh\",\"id\",\"odai_photo_file_name\",\"text\"],inplace=True,axis=1)\n",
    "\n",
    "for train_index, test_index in cv.split(train):\n",
    "    X_train, X_test = train.iloc[train_index], train.iloc[test_index]\n",
    "    y_train, y_test = y[train_index], y[test_index]\n",
    "    lgb_train = lgb.Dataset(X_train, y_train)\n",
    "    lgb_eval = lgb.Dataset(X_test, y_test, reference=lgb_train)\n",
    "\n",
    "    lgbm_params = {\n",
    "        'boosting_type': 'gbdt',\n",
    "        'objective': 'regression',\n",
    "        'metric': 'auc',\n",
    "        'num_leaves':80,\n",
    "        'learning_rate': 0.05,\n",
    "        \"num_boost_round\":3000,\n",
    "        \"early_stopping_rounds\":200,\n",
    "    }\n",
    "\n",
    "    model = lgb.train(lgbm_params, lgb_train, valid_sets=lgb_eval,)\n",
    "    models.append(model)\n",
    "    \n",
    "    y_pred =np.exp(model.predict(X_test, num_iteration=model.best_iteration))\n",
    "    y_pred = np.where(y_pred < 0, 0, y_pred)\n",
    "    print(roc_auc_score(y_test, y_pred))\n",
    "    scores += roc_auc_score(y_test, y_pred)/5\n",
    "\n",
    "print(scores)\n",
    "\n",
    "\n",
    "for i in range(len(models)):\n",
    "    sub_preds = model.predict(test[train.columns],num_iteration=model.best_iteration)"
   ]
  },
  {
   "cell_type": "code",
   "execution_count": null,
   "metadata": {},
   "outputs": [],
   "source": [
    "submission = pd.DataFrame(sub_preds, columns=[\"is_laugh\"])\n",
    "submission[\"id\"] = test[\"id\"]\n",
    "submission.reindex(columns=[\"id\",\"is_laugh\"]).to_csv(\"sub_text_lgb.csv\", index = False)"
   ]
  }
 ],
 "metadata": {
  "kernelspec": {
   "display_name": "Python 3.9.13 ('ml-env')",
   "language": "python",
   "name": "python3"
  },
  "language_info": {
   "codemirror_mode": {
    "name": "ipython",
    "version": 3
   },
   "file_extension": ".py",
   "mimetype": "text/x-python",
   "name": "python",
   "nbconvert_exporter": "python",
   "pygments_lexer": "ipython3",
   "version": "3.9.13"
  },
  "orig_nbformat": 4,
  "vscode": {
   "interpreter": {
    "hash": "b305a4b1270f31cd6e864a4acd6c4c9eb3f00ef58e83b7f05205adf2ab7c38fb"
   }
  }
 },
 "nbformat": 4,
 "nbformat_minor": 2
}
